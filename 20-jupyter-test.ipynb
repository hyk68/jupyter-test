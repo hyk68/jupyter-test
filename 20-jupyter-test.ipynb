{
 "cells": [
  {
   "cell_type": "markdown",
   "id": "2a7586bd-30f3-4e46-a1f5-8b272ddeebff",
   "metadata": {
    "tags": []
   },
   "source": [
    "# 2.3 JupyterLab"
   ]
  },
  {
   "cell_type": "code",
   "execution_count": 2,
   "id": "68fea47b-04d4-4811-9de9-7d5651b89c58",
   "metadata": {
    "tags": []
   },
   "outputs": [
    {
     "data": {
      "text/plain": [
       "2"
      ]
     },
     "execution_count": 2,
     "metadata": {},
     "output_type": "execute_result"
    }
   ],
   "source": [
    "1 + 1"
   ]
  },
  {
   "cell_type": "code",
   "execution_count": 7,
   "id": "a8c07f88-99c0-4cbc-abbd-2125e99a2d78",
   "metadata": {
    "tags": []
   },
   "outputs": [
    {
     "data": {
      "text/plain": [
       "[4, 3, 4]"
      ]
     },
     "execution_count": 7,
     "metadata": {},
     "output_type": "execute_result"
    }
   ],
   "source": [
    "names = ['spam', 'ham', 'eggs']\n",
    "lens = []\n",
    "for name in names:\n",
    "    lens.append(len(name))\n",
    "\n",
    "lens"
   ]
  },
  {
   "cell_type": "markdown",
   "id": "74721ca5-f5ff-49e1-b3f3-bcb28cd641f5",
   "metadata": {
    "tags": []
   },
   "source": [
    "## 0から9999までの値の2乗を要素とするリストを作る時間を計測"
   ]
  },
  {
   "cell_type": "code",
   "execution_count": 10,
   "id": "245fa259-38c8-4905-878a-208780a1f6e0",
   "metadata": {
    "tags": []
   },
   "outputs": [
    {
     "name": "stdout",
     "output_type": "stream",
     "text": [
      "285 µs ± 12.9 µs per loop (mean ± std. dev. of 10 runs, 1,000 loops each)\n"
     ]
    }
   ],
   "source": [
    "# リスト内包表記による方法\n",
    "%timeit -n 1000 -r 10 [x*x for x in range(10000)]"
   ]
  },
  {
   "cell_type": "code",
   "execution_count": 11,
   "id": "6d310282-f00c-4108-ab23-cdc9a45cd95e",
   "metadata": {
    "tags": []
   },
   "outputs": [
    {
     "name": "stdout",
     "output_type": "stream",
     "text": [
      "440 µs ± 13.8 µs per loop (mean ± std. dev. of 10 runs, 1,000 loops each)\n"
     ]
    }
   ],
   "source": [
    "%%timeit -n 1000 -r 10\n",
    "\n",
    "ret = []\n",
    "for x in range(10000):\n",
    "    ret.append(x*x)"
   ]
  },
  {
   "cell_type": "code",
   "execution_count": 37,
   "id": "c47e3dac-7161-4517-9f44-9d7e710cf9c3",
   "metadata": {
    "tags": []
   },
   "outputs": [
    {
     "name": "stdout",
     "output_type": "stream",
     "text": [
      "0\n",
      "1\n",
      "2\n",
      "0\n",
      "1\n",
      "2\n",
      "28.6 µs ± 16.5 µs per loop (mean ± std. dev. of 2 runs, 1 loop each)\n"
     ]
    }
   ],
   "source": [
    "%%timeit -n 1 -r 2\n",
    "\n",
    "i = 0\n",
    "while i < 3:\n",
    "    print(i)\n",
    "    i += 1"
   ]
  },
  {
   "cell_type": "markdown",
   "id": "9cb540b4-49e4-49c6-8703-5f6cd845ae1b",
   "metadata": {},
   "source": [
    "### シェルコマンドの実行"
   ]
  },
  {
   "cell_type": "code",
   "execution_count": 45,
   "id": "7b8469ad-2a82-4797-ab9e-9a76b20e5b8a",
   "metadata": {
    "tags": []
   },
   "outputs": [
    {
     "name": "stdout",
     "output_type": "stream",
     "text": [
      "01-isclose.ipynb\n",
      "02-4_2_7.ipynb\n",
      "03-pandas_chart-visualization.ipynb\n",
      "04-classification_report.ipynb\n",
      "05-roc-curve.ipynb\n",
      "06-roc-curve-2.ipynb\n",
      "07-clustering.ipynb\n",
      "08_3-4-1to3.ipynb\n",
      "09_3-4-6.ipynb\n",
      "11-generator.ipynb\n",
      "12-file-io.ipynb\n",
      "13-string.ipynb\n",
      "14-lib-re.ipynb\n",
      "15-lib-logging.ipynb\n",
      "16-lib_datetime.ipynb\n",
      "17-lib_pickle.ipynb\n",
      "18-lib_pathlib.ipynb\n",
      "20-jupyter-test.ipynb\n"
     ]
    }
   ],
   "source": [
    "!ls *.ipynb | sort"
   ]
  },
  {
   "cell_type": "code",
   "execution_count": null,
   "id": "72f572e8-0321-4688-bef5-53cc643b2596",
   "metadata": {},
   "outputs": [],
   "source": []
  }
 ],
 "metadata": {
  "kernelspec": {
   "display_name": "Python 3 (ipykernel)",
   "language": "python",
   "name": "python3"
  },
  "language_info": {
   "codemirror_mode": {
    "name": "ipython",
    "version": 3
   },
   "file_extension": ".py",
   "mimetype": "text/x-python",
   "name": "python",
   "nbconvert_exporter": "python",
   "pygments_lexer": "ipython3",
   "version": "3.9.6"
  }
 },
 "nbformat": 4,
 "nbformat_minor": 5
}
